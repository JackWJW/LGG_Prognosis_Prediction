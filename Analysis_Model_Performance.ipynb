{
 "cells": [
  {
   "cell_type": "markdown",
   "id": "7b439d79",
   "metadata": {},
   "source": [
    "### Analysis of Model Performance Across Datasets"
   ]
  },
  {
   "cell_type": "code",
   "execution_count": null,
   "id": "2b61532f",
   "metadata": {},
   "outputs": [],
   "source": [
    "import pandas as pd"
   ]
  },
  {
   "cell_type": "code",
   "execution_count": null,
   "id": "a4ae3118",
   "metadata": {},
   "outputs": [],
   "source": [
    "df_list = []\n",
    "for rs in range(0,3):\n",
    "    for dataset in range(1,19):\n",
    "        df = pd.read_csv(f\"./LGG_Fixed-K_Results/RS-{rs}_DS-{dataset}_Results/Results_Summary.csv\")\n",
    "        df_list.append(df)"
   ]
  }
 ],
 "metadata": {
  "kernelspec": {
   "display_name": ".conda",
   "language": "python",
   "name": "python3"
  },
  "language_info": {
   "codemirror_mode": {
    "name": "ipython",
    "version": 3
   },
   "file_extension": ".py",
   "mimetype": "text/x-python",
   "name": "python",
   "nbconvert_exporter": "python",
   "pygments_lexer": "ipython3",
   "version": "3.11.11"
  }
 },
 "nbformat": 4,
 "nbformat_minor": 5
}
