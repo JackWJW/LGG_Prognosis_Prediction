{
 "cells": [
  {
   "cell_type": "markdown",
   "id": "af764d13",
   "metadata": {},
   "source": [
    "# Preparint transcriptomic integration datasets for deep learning"
   ]
  },
  {
   "cell_type": "markdown",
   "id": "efba7411",
   "metadata": {},
   "source": [
    "#### As transcription integration with iMAT is sensitive to the quartile, threshold and epsilon parameters, a set of different parameters need to be explored and their impact on prediction accuracy evaluated."
   ]
  },
  {
   "cell_type": "markdown",
   "id": "b6919765",
   "metadata": {},
   "source": [
    "Different Settings:\n",
    "1. UQ:10%, LQ:90%, epsilon:1, threshold:0.1\n",
    "2. UQ:20%, LQ:80%, epsilon:1, threshold:0.1\n",
    "3. UQ:30%, LQ:70%, epsilon:1, threshold:0.1\n",
    "4. UQ:40%, LQ:60%, epsilon:1, threshold:0.1\n",
    "<br>\n",
    "<br>\n",
    "5. UQ:10%, LQ:90%, epsilon:10, threshold:1\n",
    "6. UQ:20%, LQ:80%, epsilon:10, threshold:1\n",
    "7. UQ:30%, LQ:70%, epsilon:10, threshold:1\n",
    "8. UQ:40%, LQ:60%, epsilon:10, threshold:1\n",
    "<br>\n",
    "<br>\n",
    "9. UQ:10%, LQ:90%, epsilon:20, threshold:10\n",
    "10. UQ:20%, LQ:80%, epsilon:20, threshold:10\n",
    "11. UQ:30%, LQ:70%, epsilon:20, threshold:10\n",
    "12. UQ:40%, LQ:60%, epsilon:20, threshold:10\n",
    "<br>\n",
    "<br>\n",
    "13. UQ:10%, LQ:90%, epsilon:40, threshold:20\n",
    "14. UQ:20%, LQ:80%, epsilon:40, threshold:20\n",
    "15. UQ:30%, LQ:70%, epsilon:40, threshold:20\n",
    "16. UQ:40%, LQ:60%, epsilon:40, threshold:20  \n"
   ]
  },
  {
   "cell_type": "markdown",
   "id": "bd5207fc",
   "metadata": {},
   "source": [
    "Downlaoding in model"
   ]
  },
  {
   "cell_type": "code",
   "execution_count": 1,
   "id": "e3f1e93b",
   "metadata": {},
   "outputs": [
    {
     "name": "stdout",
     "output_type": "stream",
     "text": [
      "Downloading  and Reading in Model\n",
      "Model succesfully downloaded and read in.\n",
      "Number of Reactions in model : 2312\n",
      "Number of Metabolites in model : 2015\n",
      "Number of Genes in model : 2887\n",
      "Checking gene symbol conversion :\n"
     ]
    },
    {
     "data": {
      "text/html": [
       "\n",
       "        <table>\n",
       "            <tr>\n",
       "                <td><strong>Gene identifier</strong></td><td>UGT8</td>\n",
       "            </tr><tr>\n",
       "                <td><strong>Name</strong></td><td>G_UGT8</td>\n",
       "            </tr><tr>\n",
       "                <td><strong>Memory address</strong></td>\n",
       "                <td>0x244f92221d0</td>\n",
       "            </tr><tr>\n",
       "                <td><strong>Functional</strong></td><td>True</td>\n",
       "            </tr><tr>\n",
       "                <td><strong>In 2 reaction(s)</strong></td><td>\n",
       "                    MAR00920, MAR00919\n",
       "                    </td>\n",
       "            </tr>\n",
       "        </table>"
      ],
      "text/plain": [
       "<Gene UGT8 at 0x244f92221d0>"
      ]
     },
     "execution_count": 1,
     "metadata": {},
     "output_type": "execute_result"
    }
   ],
   "source": [
    "from pyGSLModel import download_GSL_model\n",
    "\n",
    "model = download_GSL_model()\n",
    "\n",
    "print(f\"Number of Reactions in model : {len(model.reactions)}\")\n",
    "print(f\"Number of Metabolites in model : {len(model.metabolites)}\")\n",
    "print(f\"Number of Genes in model : {len(model.genes)}\")\n",
    "\n",
    "print(f\"Checking gene symbol conversion :\")\n",
    "model.genes.get_by_id(\"UGT8\")"
   ]
  },
  {
   "cell_type": "markdown",
   "id": "dc66d3bf",
   "metadata": {},
   "source": [
    "Generating the list of parameters for automating simulations."
   ]
  },
  {
   "cell_type": "code",
   "execution_count": 2,
   "id": "6ffc7a9a",
   "metadata": {},
   "outputs": [],
   "source": [
    "integration_params = [{\"UQ\":0.1,\"LQ\":0.9,\"epsilon\":1,\"threshold\":0.1},{\"UQ\":0.2,\"LQ\":0.8,\"epsilon\":1,\"threshold\":0.1},{\"UQ\":0.3,\"LQ\":0.7,\"epsilon\":1,\"threshold\":0.1},{\"UQ\":0.4,\"LQ\":0.6,\"epsilon\":1,\"threshold\":0.1},\n",
    "                      {\"UQ\":0.1,\"LQ\":0.9,\"epsilon\":10,\"threshold\":1},{\"UQ\":0.2,\"LQ\":0.8,\"epsilon\":10,\"threshold\":1},{\"UQ\":0.3,\"LQ\":0.7,\"epsilon\":10,\"threshold\":1},{\"UQ\":0.4,\"LQ\":0.6,\"epsilon\":10,\"threshold\":1},\n",
    "                      {\"UQ\":0.1,\"LQ\":0.9,\"epsilon\":20,\"threshold\":10},{\"UQ\":0.2,\"LQ\":0.8,\"epsilon\":20,\"threshold\":10},{\"UQ\":0.3,\"LQ\":0.7,\"epsilon\":20,\"threshold\":10},{\"UQ\":0.4,\"LQ\":0.6,\"epsilon\":20,\"threshold\":10},\n",
    "                      {\"UQ\":0.1,\"LQ\":0.9,\"epsilon\":40,\"threshold\":20},{\"UQ\":0.2,\"LQ\":0.8,\"epsilon\":40,\"threshold\":20},{\"UQ\":0.3,\"LQ\":0.7,\"epsilon\":40,\"threshold\":20},{\"UQ\":0.4,\"LQ\":0.6,\"epsilon\":40,\"threshold\":20}]"
   ]
  },
  {
   "cell_type": "markdown",
   "id": "18f9f7f6",
   "metadata": {},
   "source": [
    "Performing simulations for each set of parameters and storing output dataframes in a dictionary as well as saving the csv"
   ]
  },
  {
   "cell_type": "code",
   "execution_count": 3,
   "id": "ad7b4d9d",
   "metadata": {},
   "outputs": [
    {
     "ename": "EmptyDataError",
     "evalue": "No columns to parse from file",
     "output_type": "error",
     "traceback": [
      "\u001b[1;31m---------------------------------------------------------------------------\u001b[0m",
      "\u001b[1;31mEmptyDataError\u001b[0m                            Traceback (most recent call last)",
      "Cell \u001b[1;32mIn[3], line 7\u001b[0m\n\u001b[0;32m      5\u001b[0m \u001b[38;5;28;01mfor\u001b[39;00m params \u001b[38;5;129;01min\u001b[39;00m integration_params:\n\u001b[0;32m      6\u001b[0m     i \u001b[38;5;241m+\u001b[39m\u001b[38;5;241m=\u001b[39m \u001b[38;5;241m1\u001b[39m\n\u001b[1;32m----> 7\u001b[0m     iMAT_df \u001b[38;5;241m=\u001b[39m \u001b[43mTCGA_iMAT_sample_integrate\u001b[49m\u001b[43m(\u001b[49m\u001b[43mmodel\u001b[49m\u001b[43m,\u001b[49m\u001b[43m \u001b[49m\u001b[43mtissue\u001b[49m\u001b[38;5;241;43m=\u001b[39;49m\u001b[38;5;124;43m\"\u001b[39;49m\u001b[38;5;124;43mBrain\u001b[39;49m\u001b[38;5;124;43m\"\u001b[39;49m\u001b[43m,\u001b[49m\u001b[43m \u001b[49m\u001b[43mdatasets\u001b[49m\u001b[38;5;241;43m=\u001b[39;49m\u001b[38;5;124;43m\"\u001b[39;49m\u001b[38;5;124;43mTCGA\u001b[39;49m\u001b[38;5;124;43m\"\u001b[39;49m\u001b[43m,\u001b[49m\n\u001b[0;32m      8\u001b[0m \u001b[43m                                         \u001b[49m\u001b[43mupper_quantile\u001b[49m\u001b[38;5;241;43m=\u001b[39;49m\u001b[43mparams\u001b[49m\u001b[43m[\u001b[49m\u001b[38;5;124;43m\"\u001b[39;49m\u001b[38;5;124;43mUQ\u001b[39;49m\u001b[38;5;124;43m\"\u001b[39;49m\u001b[43m]\u001b[49m\u001b[43m,\u001b[49m\n\u001b[0;32m      9\u001b[0m \u001b[43m                                         \u001b[49m\u001b[43mlower_quantile\u001b[49m\u001b[38;5;241;43m=\u001b[39;49m\u001b[43mparams\u001b[49m\u001b[43m[\u001b[49m\u001b[38;5;124;43m\"\u001b[39;49m\u001b[38;5;124;43mLQ\u001b[39;49m\u001b[38;5;124;43m\"\u001b[39;49m\u001b[43m]\u001b[49m\u001b[43m,\u001b[49m\n\u001b[0;32m     10\u001b[0m \u001b[43m                                         \u001b[49m\u001b[43mepsilon\u001b[49m\u001b[38;5;241;43m=\u001b[39;49m\u001b[43mparams\u001b[49m\u001b[43m[\u001b[49m\u001b[38;5;124;43m\"\u001b[39;49m\u001b[38;5;124;43mepsilon\u001b[39;49m\u001b[38;5;124;43m\"\u001b[39;49m\u001b[43m]\u001b[49m\u001b[43m,\u001b[49m\n\u001b[0;32m     11\u001b[0m \u001b[43m                                         \u001b[49m\u001b[43mthreshold\u001b[49m\u001b[38;5;241;43m=\u001b[39;49m\u001b[43mparams\u001b[49m\u001b[43m[\u001b[49m\u001b[38;5;124;43m\"\u001b[39;49m\u001b[38;5;124;43mthreshold\u001b[39;49m\u001b[38;5;124;43m\"\u001b[39;49m\u001b[43m]\u001b[49m\u001b[43m)\u001b[49m\n\u001b[0;32m     12\u001b[0m     iMAT_df\u001b[38;5;241m.\u001b[39mto_csv(\u001b[38;5;124mf\u001b[39m\u001b[38;5;124m\"\u001b[39m\u001b[38;5;124m./iMAT_integrated_data/TCGA_iMAT_integrated_df_\u001b[39m\u001b[38;5;132;01m{\u001b[39;00mi\u001b[38;5;132;01m}\u001b[39;00m\u001b[38;5;124m.csv\u001b[39m\u001b[38;5;124m\"\u001b[39m)\n\u001b[0;32m     13\u001b[0m     \u001b[38;5;28mprint\u001b[39m(\u001b[38;5;124m\"\u001b[39m\u001b[38;5;124m\"\u001b[39m)\n",
      "File \u001b[1;32mc:\\Users\\ottoc\\Python Projects\\.conda\\Lib\\site-packages\\pyGSLModel\\transcriptomic_integration.py:232\u001b[0m, in \u001b[0;36mTCGA_iMAT_sample_integrate\u001b[1;34m(model, tissue, datasets, upper_quantile, lower_quantile, epsilon, threshold)\u001b[0m\n\u001b[0;32m    213\u001b[0m \u001b[38;5;250m\u001b[39m\u001b[38;5;124;03m\"\"\"\u001b[39;00m\n\u001b[0;32m    214\u001b[0m \u001b[38;5;124;03mPerforms iMAT transcriptomic integration (using the imatpy package) to generate fluxes for different cancer and normal tissue samples from TCGA and GTEX (accessed via Xena).\u001b[39;00m\n\u001b[0;32m    215\u001b[0m \u001b[38;5;124;03mGenerates a flux preduction based on gene expression via iMAT for every sample corresponding to the specified tissue of interest.\u001b[39;00m\n\u001b[1;32m   (...)\u001b[0m\n\u001b[0;32m    229\u001b[0m \u001b[38;5;124;03m- threshold : Alongside epsilon, iMAT maximises the sum of low expressing reactions with flux < threshold (default 0.01)\u001b[39;00m\n\u001b[0;32m    230\u001b[0m \u001b[38;5;124;03m\"\"\"\u001b[39;00m\n\u001b[0;32m    231\u001b[0m \u001b[38;5;66;03m# Downloading transcriptomic data\u001b[39;00m\n\u001b[1;32m--> 232\u001b[0m df_input \u001b[38;5;241m=\u001b[39m \u001b[43mpd\u001b[49m\u001b[38;5;241;43m.\u001b[39;49m\u001b[43mread_csv\u001b[49m\u001b[43m(\u001b[49m\u001b[38;5;124;43m\"\u001b[39;49m\u001b[38;5;124;43mhttps://raw.githubusercontent.com/JackWJW/pyGSLModel/main/Xena-TCGA_TARGET_GTEX_Data/Xena_Data_New.tsv\u001b[39;49m\u001b[38;5;124;43m\"\u001b[39;49m\u001b[43m,\u001b[49m\u001b[43msep\u001b[49m\u001b[38;5;241;43m=\u001b[39;49m\u001b[38;5;124;43m'\u001b[39;49m\u001b[38;5;130;43;01m\\t\u001b[39;49;00m\u001b[38;5;124;43m'\u001b[39;49m\u001b[43m)\u001b[49m\n\u001b[0;32m    234\u001b[0m \u001b[38;5;66;03m# Checking tissue input is in the dataframe\u001b[39;00m\n\u001b[0;32m    235\u001b[0m all_sites \u001b[38;5;241m=\u001b[39m df_input[\u001b[38;5;124m\"\u001b[39m\u001b[38;5;124m_primary_site\u001b[39m\u001b[38;5;124m\"\u001b[39m]\u001b[38;5;241m.\u001b[39munique()\u001b[38;5;241m.\u001b[39mtolist()\n",
      "File \u001b[1;32mc:\\Users\\ottoc\\Python Projects\\.conda\\Lib\\site-packages\\pandas\\io\\parsers\\readers.py:1026\u001b[0m, in \u001b[0;36mread_csv\u001b[1;34m(filepath_or_buffer, sep, delimiter, header, names, index_col, usecols, dtype, engine, converters, true_values, false_values, skipinitialspace, skiprows, skipfooter, nrows, na_values, keep_default_na, na_filter, verbose, skip_blank_lines, parse_dates, infer_datetime_format, keep_date_col, date_parser, date_format, dayfirst, cache_dates, iterator, chunksize, compression, thousands, decimal, lineterminator, quotechar, quoting, doublequote, escapechar, comment, encoding, encoding_errors, dialect, on_bad_lines, delim_whitespace, low_memory, memory_map, float_precision, storage_options, dtype_backend)\u001b[0m\n\u001b[0;32m   1013\u001b[0m kwds_defaults \u001b[38;5;241m=\u001b[39m _refine_defaults_read(\n\u001b[0;32m   1014\u001b[0m     dialect,\n\u001b[0;32m   1015\u001b[0m     delimiter,\n\u001b[1;32m   (...)\u001b[0m\n\u001b[0;32m   1022\u001b[0m     dtype_backend\u001b[38;5;241m=\u001b[39mdtype_backend,\n\u001b[0;32m   1023\u001b[0m )\n\u001b[0;32m   1024\u001b[0m kwds\u001b[38;5;241m.\u001b[39mupdate(kwds_defaults)\n\u001b[1;32m-> 1026\u001b[0m \u001b[38;5;28;01mreturn\u001b[39;00m \u001b[43m_read\u001b[49m\u001b[43m(\u001b[49m\u001b[43mfilepath_or_buffer\u001b[49m\u001b[43m,\u001b[49m\u001b[43m \u001b[49m\u001b[43mkwds\u001b[49m\u001b[43m)\u001b[49m\n",
      "File \u001b[1;32mc:\\Users\\ottoc\\Python Projects\\.conda\\Lib\\site-packages\\pandas\\io\\parsers\\readers.py:620\u001b[0m, in \u001b[0;36m_read\u001b[1;34m(filepath_or_buffer, kwds)\u001b[0m\n\u001b[0;32m    617\u001b[0m _validate_names(kwds\u001b[38;5;241m.\u001b[39mget(\u001b[38;5;124m\"\u001b[39m\u001b[38;5;124mnames\u001b[39m\u001b[38;5;124m\"\u001b[39m, \u001b[38;5;28;01mNone\u001b[39;00m))\n\u001b[0;32m    619\u001b[0m \u001b[38;5;66;03m# Create the parser.\u001b[39;00m\n\u001b[1;32m--> 620\u001b[0m parser \u001b[38;5;241m=\u001b[39m \u001b[43mTextFileReader\u001b[49m\u001b[43m(\u001b[49m\u001b[43mfilepath_or_buffer\u001b[49m\u001b[43m,\u001b[49m\u001b[43m \u001b[49m\u001b[38;5;241;43m*\u001b[39;49m\u001b[38;5;241;43m*\u001b[39;49m\u001b[43mkwds\u001b[49m\u001b[43m)\u001b[49m\n\u001b[0;32m    622\u001b[0m \u001b[38;5;28;01mif\u001b[39;00m chunksize \u001b[38;5;129;01mor\u001b[39;00m iterator:\n\u001b[0;32m    623\u001b[0m     \u001b[38;5;28;01mreturn\u001b[39;00m parser\n",
      "File \u001b[1;32mc:\\Users\\ottoc\\Python Projects\\.conda\\Lib\\site-packages\\pandas\\io\\parsers\\readers.py:1620\u001b[0m, in \u001b[0;36mTextFileReader.__init__\u001b[1;34m(self, f, engine, **kwds)\u001b[0m\n\u001b[0;32m   1617\u001b[0m     \u001b[38;5;28mself\u001b[39m\u001b[38;5;241m.\u001b[39moptions[\u001b[38;5;124m\"\u001b[39m\u001b[38;5;124mhas_index_names\u001b[39m\u001b[38;5;124m\"\u001b[39m] \u001b[38;5;241m=\u001b[39m kwds[\u001b[38;5;124m\"\u001b[39m\u001b[38;5;124mhas_index_names\u001b[39m\u001b[38;5;124m\"\u001b[39m]\n\u001b[0;32m   1619\u001b[0m \u001b[38;5;28mself\u001b[39m\u001b[38;5;241m.\u001b[39mhandles: IOHandles \u001b[38;5;241m|\u001b[39m \u001b[38;5;28;01mNone\u001b[39;00m \u001b[38;5;241m=\u001b[39m \u001b[38;5;28;01mNone\u001b[39;00m\n\u001b[1;32m-> 1620\u001b[0m \u001b[38;5;28mself\u001b[39m\u001b[38;5;241m.\u001b[39m_engine \u001b[38;5;241m=\u001b[39m \u001b[38;5;28;43mself\u001b[39;49m\u001b[38;5;241;43m.\u001b[39;49m\u001b[43m_make_engine\u001b[49m\u001b[43m(\u001b[49m\u001b[43mf\u001b[49m\u001b[43m,\u001b[49m\u001b[43m \u001b[49m\u001b[38;5;28;43mself\u001b[39;49m\u001b[38;5;241;43m.\u001b[39;49m\u001b[43mengine\u001b[49m\u001b[43m)\u001b[49m\n",
      "File \u001b[1;32mc:\\Users\\ottoc\\Python Projects\\.conda\\Lib\\site-packages\\pandas\\io\\parsers\\readers.py:1898\u001b[0m, in \u001b[0;36mTextFileReader._make_engine\u001b[1;34m(self, f, engine)\u001b[0m\n\u001b[0;32m   1895\u001b[0m     \u001b[38;5;28;01mraise\u001b[39;00m \u001b[38;5;167;01mValueError\u001b[39;00m(msg)\n\u001b[0;32m   1897\u001b[0m \u001b[38;5;28;01mtry\u001b[39;00m:\n\u001b[1;32m-> 1898\u001b[0m     \u001b[38;5;28;01mreturn\u001b[39;00m \u001b[43mmapping\u001b[49m\u001b[43m[\u001b[49m\u001b[43mengine\u001b[49m\u001b[43m]\u001b[49m\u001b[43m(\u001b[49m\u001b[43mf\u001b[49m\u001b[43m,\u001b[49m\u001b[43m \u001b[49m\u001b[38;5;241;43m*\u001b[39;49m\u001b[38;5;241;43m*\u001b[39;49m\u001b[38;5;28;43mself\u001b[39;49m\u001b[38;5;241;43m.\u001b[39;49m\u001b[43moptions\u001b[49m\u001b[43m)\u001b[49m\n\u001b[0;32m   1899\u001b[0m \u001b[38;5;28;01mexcept\u001b[39;00m \u001b[38;5;167;01mException\u001b[39;00m:\n\u001b[0;32m   1900\u001b[0m     \u001b[38;5;28;01mif\u001b[39;00m \u001b[38;5;28mself\u001b[39m\u001b[38;5;241m.\u001b[39mhandles \u001b[38;5;129;01mis\u001b[39;00m \u001b[38;5;129;01mnot\u001b[39;00m \u001b[38;5;28;01mNone\u001b[39;00m:\n",
      "File \u001b[1;32mc:\\Users\\ottoc\\Python Projects\\.conda\\Lib\\site-packages\\pandas\\io\\parsers\\c_parser_wrapper.py:93\u001b[0m, in \u001b[0;36mCParserWrapper.__init__\u001b[1;34m(self, src, **kwds)\u001b[0m\n\u001b[0;32m     90\u001b[0m \u001b[38;5;28;01mif\u001b[39;00m kwds[\u001b[38;5;124m\"\u001b[39m\u001b[38;5;124mdtype_backend\u001b[39m\u001b[38;5;124m\"\u001b[39m] \u001b[38;5;241m==\u001b[39m \u001b[38;5;124m\"\u001b[39m\u001b[38;5;124mpyarrow\u001b[39m\u001b[38;5;124m\"\u001b[39m:\n\u001b[0;32m     91\u001b[0m     \u001b[38;5;66;03m# Fail here loudly instead of in cython after reading\u001b[39;00m\n\u001b[0;32m     92\u001b[0m     import_optional_dependency(\u001b[38;5;124m\"\u001b[39m\u001b[38;5;124mpyarrow\u001b[39m\u001b[38;5;124m\"\u001b[39m)\n\u001b[1;32m---> 93\u001b[0m \u001b[38;5;28mself\u001b[39m\u001b[38;5;241m.\u001b[39m_reader \u001b[38;5;241m=\u001b[39m \u001b[43mparsers\u001b[49m\u001b[38;5;241;43m.\u001b[39;49m\u001b[43mTextReader\u001b[49m\u001b[43m(\u001b[49m\u001b[43msrc\u001b[49m\u001b[43m,\u001b[49m\u001b[43m \u001b[49m\u001b[38;5;241;43m*\u001b[39;49m\u001b[38;5;241;43m*\u001b[39;49m\u001b[43mkwds\u001b[49m\u001b[43m)\u001b[49m\n\u001b[0;32m     95\u001b[0m \u001b[38;5;28mself\u001b[39m\u001b[38;5;241m.\u001b[39munnamed_cols \u001b[38;5;241m=\u001b[39m \u001b[38;5;28mself\u001b[39m\u001b[38;5;241m.\u001b[39m_reader\u001b[38;5;241m.\u001b[39munnamed_cols\n\u001b[0;32m     97\u001b[0m \u001b[38;5;66;03m# error: Cannot determine type of 'names'\u001b[39;00m\n",
      "File \u001b[1;32mparsers.pyx:581\u001b[0m, in \u001b[0;36mpandas._libs.parsers.TextReader.__cinit__\u001b[1;34m()\u001b[0m\n",
      "\u001b[1;31mEmptyDataError\u001b[0m: No columns to parse from file"
     ]
    }
   ],
   "source": [
    "import pandas as pd\n",
    "from pyGSLModel import TCGA_iMAT_sample_integrate\n",
    "\n",
    "i=0\n",
    "for params in integration_params:\n",
    "    i += 1\n",
    "    iMAT_df = TCGA_iMAT_sample_integrate(model, tissue=\"Brain\", datasets=\"TCGA\",\n",
    "                                         upper_quantile=params[\"UQ\"],\n",
    "                                         lower_quantile=params[\"LQ\"],\n",
    "                                         epsilon=params[\"epsilon\"],\n",
    "                                         threshold=params[\"threshold\"])\n",
    "    iMAT_df.to_csv(f\"./iMAT_integrated_data/TCGA_iMAT_integrated_df_{i}.csv\")\n",
    "    print(\"\")\n",
    "    print(f\"--------------------------\\nParameters set {i} completed\\n--------------------------\")\n",
    "    print(\"\")"
   ]
  }
 ],
 "metadata": {
  "kernelspec": {
   "display_name": ".conda",
   "language": "python",
   "name": "python3"
  },
  "language_info": {
   "codemirror_mode": {
    "name": "ipython",
    "version": 3
   },
   "file_extension": ".py",
   "mimetype": "text/x-python",
   "name": "python",
   "nbconvert_exporter": "python",
   "pygments_lexer": "ipython3",
   "version": "3.11.11"
  }
 },
 "nbformat": 4,
 "nbformat_minor": 5
}
