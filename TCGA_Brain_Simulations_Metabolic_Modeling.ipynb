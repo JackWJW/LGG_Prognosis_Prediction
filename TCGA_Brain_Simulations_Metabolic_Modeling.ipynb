{
 "cells": [
  {
   "cell_type": "markdown",
   "id": "af764d13",
   "metadata": {},
   "source": [
    "# Preparint transcriptomic integration datasets for deep learning"
   ]
  },
  {
   "cell_type": "markdown",
   "id": "efba7411",
   "metadata": {},
   "source": [
    "#### As transcription integration with iMAT is sensitive to the quartile, threshold and epsilon parameters, a set of different parameters need to be explored and their impact on prediction accuracy evaluated."
   ]
  },
  {
   "cell_type": "markdown",
   "id": "b6919765",
   "metadata": {},
   "source": [
    "Different Settings:\n",
    "1. UQ:10%, LQ:90%, epsilon:1, threshold:0.1\n",
    "2. UQ:20%, LQ:80%, epsilon:1, threshold:0.1\n",
    "3. UQ:30%, LQ:70%, epsilon:1, threshold:0.1\n",
    "4. UQ:40%, LQ:60%, epsilon:1, threshold:0.1\n",
    "<br>\n",
    "<br>\n",
    "5. UQ:10%, LQ:90%, epsilon:10, threshold:1\n",
    "6. UQ:20%, LQ:80%, epsilon:10, threshold:1\n",
    "7. UQ:30%, LQ:70%, epsilon:10, threshold:1\n",
    "8. UQ:40%, LQ:60%, epsilon:10, threshold:1\n",
    "<br>\n",
    "<br>\n",
    "9. UQ:10%, LQ:90%, epsilon:20, threshold:10\n",
    "10. UQ:20%, LQ:80%, epsilon:20, threshold:10\n",
    "11. UQ:30%, LQ:70%, epsilon:20, threshold:10\n",
    "12. UQ:40%, LQ:60%, epsilon:20, threshold:10\n",
    "<br>\n",
    "<br>\n",
    "13. UQ:10%, LQ:90%, epsilon:40, threshold:20\n",
    "14. UQ:20%, LQ:80%, epsilon:40, threshold:20\n",
    "15. UQ:30%, LQ:70%, epsilon:40, threshold:20\n",
    "16. UQ:40%, LQ:60%, epsilon:40, threshold:20  \n"
   ]
  },
  {
   "cell_type": "markdown",
   "id": "bd5207fc",
   "metadata": {},
   "source": [
    "Downlaoding in model"
   ]
  },
  {
   "cell_type": "code",
   "execution_count": null,
   "id": "e3f1e93b",
   "metadata": {},
   "outputs": [],
   "source": [
    "from pyGSLModel import download_GSL_model\n",
    "\n",
    "model = download_GSL_model()\n",
    "\n",
    "print(f\"Number of Reactions in model : {len(model.reactions)}\")\n",
    "print(f\"Number of Metabolites in model : {len(model.metabolites)}\")\n",
    "print(f\"Number of Genes in model : {len(model.genes)}\")\n",
    "\n",
    "print(f\"Checking gene symbol conversion :\")\n",
    "model.genes.get_by_id(\"UGT8\")"
   ]
  },
  {
   "cell_type": "markdown",
   "id": "dc66d3bf",
   "metadata": {},
   "source": [
    "Generating the list of parameters for automating simulations."
   ]
  },
  {
   "cell_type": "code",
   "execution_count": null,
   "id": "6ffc7a9a",
   "metadata": {},
   "outputs": [],
   "source": [
    "integration_params = [{\"UQ\":0.1,\"LQ\":0.9,\"epsilon\":1,\"threshold\":0.1},{\"UQ\":0.2,\"LQ\":0.8,\"epsilon\":1,\"threshold\":0.1},{\"UQ\":0.3,\"LQ\":0.7,\"epsilon\":1,\"threshold\":0.1},{\"UQ\":0.4,\"LQ\":0.6,\"epsilon\":1,\"threshold\":0.1},\n",
    "                      {\"UQ\":0.1,\"LQ\":0.9,\"epsilon\":10,\"threshold\":1},{\"UQ\":0.2,\"LQ\":0.8,\"epsilon\":10,\"threshold\":1},{\"UQ\":0.3,\"LQ\":0.7,\"epsilon\":10,\"threshold\":1},{\"UQ\":0.4,\"LQ\":0.6,\"epsilon\":10,\"threshold\":1},\n",
    "                      {\"UQ\":0.1,\"LQ\":0.9,\"epsilon\":20,\"threshold\":10},{\"UQ\":0.2,\"LQ\":0.8,\"epsilon\":20,\"threshold\":10},{\"UQ\":0.3,\"LQ\":0.7,\"epsilon\":20,\"threshold\":10},{\"UQ\":0.4,\"LQ\":0.6,\"epsilon\":20,\"threshold\":10},\n",
    "                      {\"UQ\":0.1,\"LQ\":0.9,\"epsilon\":40,\"threshold\":20},{\"UQ\":0.2,\"LQ\":0.8,\"epsilon\":40,\"threshold\":20},{\"UQ\":0.3,\"LQ\":0.7,\"epsilon\":40,\"threshold\":20},{\"UQ\":0.4,\"LQ\":0.6,\"epsilon\":40,\"threshold\":20}]"
   ]
  },
  {
   "cell_type": "markdown",
   "id": "18f9f7f6",
   "metadata": {},
   "source": [
    "Performing simulations for each set of parameters and storing output dataframes in a dictionary as well as saving the csv"
   ]
  },
  {
   "cell_type": "code",
   "execution_count": null,
   "id": "ad7b4d9d",
   "metadata": {},
   "outputs": [],
   "source": [
    "import pandas as pd\n",
    "from pyGSLModel import TCGA_iMAT_sample_integrate\n",
    "\n",
    "integrated_dataframes = {}\n",
    "i=0\n",
    "for params in integration_params:\n",
    "    i += 1\n",
    "    iMAT_df = TCGA_iMAT_sample_integrate(model, tissue=\"Brain\", datasets=\"TCGA\",\n",
    "                                         upper_quantile=params[\"UQ\"],\n",
    "                                         lower_quantile=params[\"LQ\"],\n",
    "                                         epsilon=params[\"epsilon\"],\n",
    "                                         threshold=params[\"threshold\"])\n",
    "    iMAT_df.to_csv(f\"./iMAT_integrated_data/TCGA_iMAT_integrated_df_{i}.csv\")\n",
    "    integrated_dataframes[f\"TCGA_iMAT_integrated_df_{i}\"] = iMAT_df\n",
    "    print(\"\")\n",
    "    print(f\"--------------------------\\nParameters set {i} completed\\n--------------------------\")\n",
    "    print(\"\")"
   ]
  }
 ],
 "metadata": {
  "kernelspec": {
   "display_name": ".conda",
   "language": "python",
   "name": "python3"
  },
  "language_info": {
   "codemirror_mode": {
    "name": "ipython",
    "version": 3
   },
   "file_extension": ".py",
   "mimetype": "text/x-python",
   "name": "python",
   "nbconvert_exporter": "python",
   "pygments_lexer": "ipython3",
   "version": "3.11.11"
  }
 },
 "nbformat": 4,
 "nbformat_minor": 5
}
