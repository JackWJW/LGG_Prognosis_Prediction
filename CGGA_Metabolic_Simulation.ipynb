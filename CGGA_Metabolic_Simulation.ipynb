{
 "cells": [
  {
   "cell_type": "markdown",
   "id": "c188c5d5",
   "metadata": {},
   "source": [
    "# Simulating Metabolism for CGGA Validation Data"
   ]
  },
  {
   "cell_type": "markdown",
   "id": "3c008dab",
   "metadata": {},
   "source": [
    "### Using Preferred iMAT params (determined from TCGA CV) - corresponds to Dataset 8"
   ]
  },
  {
   "cell_type": "markdown",
   "id": "a3c65802",
   "metadata": {},
   "source": [
    "Downloading Model"
   ]
  },
  {
   "cell_type": "code",
   "execution_count": null,
   "id": "962670e9",
   "metadata": {},
   "outputs": [],
   "source": [
    "from pyGSLModel import download_GSL_model\n",
    "\n",
    "model = download_GSL_model()\n",
    "\n",
    "print(f\"Number of Reactions in model : {len(model.reactions)}\")\n",
    "print(f\"Number of Metabolites in model : {len(model.metabolites)}\")\n",
    "print(f\"Number of Genes in model : {len(model.genes)}\")\n",
    "\n",
    "print(f\"Checking gene symbol conversion :\")\n",
    "model.genes.get_by_id(\"UGT8\")"
   ]
  },
  {
   "cell_type": "markdown",
   "id": "36951990",
   "metadata": {},
   "source": [
    "Performing simulation against each row in the CGGA dataset"
   ]
  },
  {
   "cell_type": "code",
   "execution_count": null,
   "id": "bf9c74de",
   "metadata": {},
   "outputs": [],
   "source": [
    "import pandas as pd\n",
    "CGGA_df = pd.read_csv(\"./CGGA_Data/CGGA_LGG_TPM.csv\").set_index(\"CGGA_ID\")\n",
    "TCGA_df = pd.read_csv(\"./TCGA_Data/TCGA_LGG.csv\").set_index(\"sample\")"
   ]
  },
  {
   "cell_type": "code",
   "execution_count": null,
   "id": "09730145",
   "metadata": {},
   "outputs": [],
   "source": [
    "# Veryifying input columns are identical between training TCGA data and CGGA validation data\n",
    "TCGA_df.columns.to_list() == CGGA_df.columns.to_list()"
   ]
  },
  {
   "cell_type": "code",
   "execution_count": null,
   "id": "9298e380",
   "metadata": {},
   "outputs": [],
   "source": [
    "CGGA_input = CGGA_df.drop(columns=['OS.time', 'OS']).T.copy()\n",
    "CGGA_input.head()"
   ]
  },
  {
   "cell_type": "markdown",
   "id": "b08d2550",
   "metadata": {},
   "source": [
    "| Simulation # | Upper Quartile | Lower Quartile | Epsilon | Threshold |\n",
    "| --- | --- | --- | --- | --- |\n",
    "| 20 | 0.2 | 0.8 | 100 | 10 | "
   ]
  },
  {
   "cell_type": "code",
   "execution_count": null,
   "id": "8d4853a9",
   "metadata": {},
   "outputs": [],
   "source": [
    "from pyGSLModel import iMAT_multi_integrate\n",
    "CGGA_simualted = iMAT_multi_integrate(model=model, data=CGGA_input, upper_quantile=0.2, lower_quantile=0.8, epsilon=100, threshold=10)"
   ]
  },
  {
   "cell_type": "code",
   "execution_count": null,
   "id": "0ec3e185",
   "metadata": {},
   "outputs": [],
   "source": [
    "CGGA_simulated_df = CGGA_simualted[0]\n",
    "CGGA_simulated_df.head()"
   ]
  },
  {
   "cell_type": "code",
   "execution_count": null,
   "id": "5e719d6d",
   "metadata": {},
   "outputs": [],
   "source": [
    "CGGA_Surv = CGGA_df[['OS', 'OS.time']].copy()\n",
    "CGGA_Surv = CGGA_Surv\n",
    "CGGA_Surv.head()"
   ]
  },
  {
   "cell_type": "code",
   "execution_count": null,
   "id": "35b3bcd4",
   "metadata": {},
   "outputs": [],
   "source": [
    "CGGA_Tidied_Data = pd.merge(CGGA_input.T,CGGA_simulated_df,left_index=True,right_index=True)\n",
    "CGGA_Tidied_Data = pd.merge(CGGA_Surv, CGGA_Tidied_Data, right_index=True, left_index=True)"
   ]
  },
  {
   "cell_type": "markdown",
   "id": "0946043b",
   "metadata": {},
   "source": [
    "Checking validation CGGA data matches columns for TCGA training data"
   ]
  },
  {
   "cell_type": "code",
   "execution_count": null,
   "id": "0fec3b6b",
   "metadata": {},
   "outputs": [],
   "source": [
    "training_data = pd.read_csv(\"./iMAT_integrated_data/TCGA_iMAT_integrated_df_20.csv\").set_index(\"sample\")\n"
   ]
  },
  {
   "cell_type": "code",
   "execution_count": null,
   "id": "89311c4e",
   "metadata": {},
   "outputs": [],
   "source": [
    "CGGA_Tidied_Data.columns.to_list() == training_data.columns.to_list()"
   ]
  },
  {
   "cell_type": "markdown",
   "id": "b2e4e143",
   "metadata": {},
   "source": [
    "Saving CGGA Tidied Data"
   ]
  },
  {
   "cell_type": "code",
   "execution_count": null,
   "id": "df784c86",
   "metadata": {},
   "outputs": [],
   "source": [
    "CGGA_Tidied_Data.to_csv(\"./CGGA_Data/CGGA_Tidied_Integrated.csv\")"
   ]
  }
 ],
 "metadata": {
  "kernelspec": {
   "display_name": ".conda",
   "language": "python",
   "name": "python3"
  },
  "language_info": {
   "codemirror_mode": {
    "name": "ipython",
    "version": 3
   },
   "file_extension": ".py",
   "mimetype": "text/x-python",
   "name": "python",
   "nbconvert_exporter": "python",
   "pygments_lexer": "ipython3",
   "version": "3.11.11"
  }
 },
 "nbformat": 4,
 "nbformat_minor": 5
}
