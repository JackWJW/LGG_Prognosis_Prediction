{
 "cells": [
  {
   "cell_type": "markdown",
   "id": "7ca8720c",
   "metadata": {},
   "source": [
    "# Preparing TCGA LGG Dataset"
   ]
  },
  {
   "cell_type": "code",
   "execution_count": 1,
   "id": "09f0bcc6",
   "metadata": {},
   "outputs": [],
   "source": [
    "import pandas as pd"
   ]
  },
  {
   "cell_type": "code",
   "execution_count": 13,
   "id": "6d761046",
   "metadata": {},
   "outputs": [],
   "source": [
    "TCGA_base = pd.read_csv(\"./TCGA_Data/TCGA_data.tsv\", sep=\"\\t\")"
   ]
  },
  {
   "cell_type": "code",
   "execution_count": 14,
   "id": "33cd17a8",
   "metadata": {},
   "outputs": [],
   "source": [
    "TCGA_LGG = TCGA_base[TCGA_base[\"primary disease or tissue\"] == \"Brain Lower Grade Glioma\"].copy()\n",
    "TCGA_LGG = TCGA_LGG[['sample', 'OS.time', 'OS','A4GALT', 'ABO', 'B3GALNT1', 'B3GALT1', 'B3GALT4', 'B3GALT5', \n",
    "    'B3GNT2', 'B3GNT5', 'B4GALNT1', 'B4GALT5', 'B4GALT6', \n",
    "    'FUT1', 'FUT2', 'FUT3', 'FUT5', 'FUT6', 'FUT9', \n",
    "    'GAL3ST1', 'GCNT2', 'ST3GAL1', 'ST3GAL2', 'ST3GAL3', 'ST3GAL4', \n",
    "    'ST3GAL5', 'ST3GAL6', 'ST6GALNAC2', 'ST6GALNAC3', 'ST6GALNAC4', 'ST6GALNAC5', \n",
    "    'ST6GALNAC6', 'ST8SIA1', 'ST8SIA5', 'UGCG', 'UGT8']]"
   ]
  },
  {
   "cell_type": "code",
   "execution_count": 15,
   "id": "e5270e12",
   "metadata": {},
   "outputs": [],
   "source": [
    "TCGA_LGG.to_csv(\"./TCGA_Data/TCGA_LGG.csv\", index=False)"
   ]
  }
 ],
 "metadata": {
  "kernelspec": {
   "display_name": ".conda",
   "language": "python",
   "name": "python3"
  },
  "language_info": {
   "codemirror_mode": {
    "name": "ipython",
    "version": 3
   },
   "file_extension": ".py",
   "mimetype": "text/x-python",
   "name": "python",
   "nbconvert_exporter": "python",
   "pygments_lexer": "ipython3",
   "version": "3.11.11"
  }
 },
 "nbformat": 4,
 "nbformat_minor": 5
}
