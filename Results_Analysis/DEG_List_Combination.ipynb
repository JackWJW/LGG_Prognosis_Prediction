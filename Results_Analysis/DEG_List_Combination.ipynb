{
 "cells": [
  {
   "cell_type": "markdown",
   "id": "f3ee0ad5",
   "metadata": {},
   "source": [
    "### Up-Regulated Genes"
   ]
  },
  {
   "cell_type": "code",
   "execution_count": 1,
   "id": "ab188c28",
   "metadata": {},
   "outputs": [],
   "source": [
    "import pandas as pd\n",
    "\n",
    "up_20 = pd.read_csv(\"./CGGA_Ensemble_DEG_RS-20.csv\")\n",
    "up_20 = up_20[up_20[\"Change\"]==\"Up\"]\n",
    "up_20.rename(columns={\"Unnamed: 0\":\"Gene\"},inplace=True)\n",
    "up_20_list = up_20[\"Gene\"].to_list()\n",
    "\n",
    "up_21 = pd.read_csv(\"./CGGA_Ensemble_DEG_RS-21.csv\")\n",
    "up_21 = up_21[up_21[\"Change\"]==\"Up\"]\n",
    "up_21.rename(columns={\"Unnamed: 0\":\"Gene\"},inplace=True)\n",
    "up_21_list = up_21[\"Gene\"].to_list()\n",
    "\n",
    "up_22 = pd.read_csv(\"./CGGA_Ensemble_DEG_RS-22.csv\")\n",
    "up_22 = up_22[up_22[\"Change\"]==\"Up\"]\n",
    "up_22.rename(columns={\"Unnamed: 0\":\"Gene\"},inplace=True)\n",
    "up_22_list = up_22[\"Gene\"].to_list()\n",
    "\n",
    "up_23 = pd.read_csv(\"./CGGA_Ensemble_DEG_RS-23.csv\")\n",
    "up_23 = up_23[up_23[\"Change\"]==\"Up\"]\n",
    "up_23.rename(columns={\"Unnamed: 0\":\"Gene\"},inplace=True)\n",
    "up_23_list = up_23[\"Gene\"].to_list()\n",
    "\n",
    "up_24 = pd.read_csv(\"./CGGA_Ensemble_DEG_RS-24.csv\")\n",
    "up_24 = up_24[up_24[\"Change\"]==\"Up\"]\n",
    "up_24.rename(columns={\"Unnamed: 0\":\"Gene\"},inplace=True)\n",
    "up_24_list = up_24[\"Gene\"].to_list()"
   ]
  },
  {
   "cell_type": "code",
   "execution_count": 2,
   "id": "1ddcbbd7",
   "metadata": {},
   "outputs": [],
   "source": [
    "degs = list(set(up_20_list) & set(up_21_list) & set(up_22_list) & set(up_23_list) & set(up_24_list))"
   ]
  },
  {
   "cell_type": "code",
   "execution_count": 4,
   "id": "7b1a8ab8",
   "metadata": {},
   "outputs": [],
   "source": [
    "pd.Series(degs).to_csv(\"./UP-DEGs.csv\")"
   ]
  },
  {
   "cell_type": "markdown",
   "id": "861c6979",
   "metadata": {},
   "source": [
    "### Down-Regulated Genes"
   ]
  },
  {
   "cell_type": "code",
   "execution_count": 8,
   "id": "3c19619c",
   "metadata": {},
   "outputs": [],
   "source": [
    "import pandas as pd\n",
    "\n",
    "down_20 = pd.read_csv(\"./CGGA_Ensemble_DEG_RS-20.csv\")\n",
    "down_20 = down_20[down_20[\"Change\"]==\"Down\"]\n",
    "down_20.rename(columns={\"Unnamed: 0\":\"Gene\"},inplace=True)\n",
    "down_20_list = down_20[\"Gene\"].to_list()\n",
    "\n",
    "down_21 = pd.read_csv(\"./CGGA_Ensemble_DEG_RS-21.csv\")\n",
    "down_21 = down_21[down_21[\"Change\"]==\"Down\"]\n",
    "down_21.rename(columns={\"Unnamed: 0\":\"Gene\"},inplace=True)\n",
    "down_21_list = down_21[\"Gene\"].to_list()\n",
    "\n",
    "down_22 = pd.read_csv(\"./CGGA_Ensemble_DEG_RS-22.csv\")\n",
    "down_22 = down_22[down_22[\"Change\"]==\"Down\"]\n",
    "down_22.rename(columns={\"Unnamed: 0\":\"Gene\"},inplace=True)\n",
    "down_22_list = down_22[\"Gene\"].to_list()\n",
    "\n",
    "down_23 = pd.read_csv(\"./CGGA_Ensemble_DEG_RS-23.csv\")\n",
    "down_23 = down_23[down_23[\"Change\"]==\"Down\"]\n",
    "down_23.rename(columns={\"Unnamed: 0\":\"Gene\"},inplace=True)\n",
    "down_23_list = down_23[\"Gene\"].to_list()\n",
    "\n",
    "down_24 = pd.read_csv(\"./CGGA_Ensemble_DEG_RS-24.csv\")\n",
    "down_24 = down_24[down_24[\"Change\"]==\"Down\"]\n",
    "down_24.rename(columns={\"Unnamed: 0\":\"Gene\"},inplace=True)\n",
    "down_24_list = down_24[\"Gene\"].to_list()"
   ]
  },
  {
   "cell_type": "code",
   "execution_count": 9,
   "id": "da7a9ac5",
   "metadata": {},
   "outputs": [],
   "source": [
    "down_degs = list(set(down_20_list) & set(down_21_list) & set(down_22_list) & set(down_23_list) & set(down_24_list))"
   ]
  },
  {
   "cell_type": "code",
   "execution_count": 10,
   "id": "8962a472",
   "metadata": {},
   "outputs": [],
   "source": [
    "pd.Series(down_degs).to_csv(\"./Down-DEGs.csv\")"
   ]
  }
 ],
 "metadata": {
  "kernelspec": {
   "display_name": ".conda",
   "language": "python",
   "name": "python3"
  },
  "language_info": {
   "codemirror_mode": {
    "name": "ipython",
    "version": 3
   },
   "file_extension": ".py",
   "mimetype": "text/x-python",
   "name": "python",
   "nbconvert_exporter": "python",
   "pygments_lexer": "ipython3",
   "version": "3.11.11"
  }
 },
 "nbformat": 4,
 "nbformat_minor": 5
}
